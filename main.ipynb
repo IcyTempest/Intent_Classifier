{
 "cells": [
  {
   "cell_type": "code",
   "execution_count": 40,
   "metadata": {
    "collapsed": true
   },
   "outputs": [],
   "source": [
    "import fasttext\n",
    "import pandas as pd\n",
    "import numpy as np\n",
    "from sklearn import metrics"
   ]
  },
  {
   "cell_type": "code",
   "execution_count": 3,
   "outputs": [
    {
     "name": "stderr",
     "output_type": "stream",
     "text": [
      "Warning : `load_model` does not return WordVectorModel or SupervisedModel any more, but a `FastText` object which is very similar.\n"
     ]
    }
   ],
   "source": [
    "model = fasttext.load_model(\"CrawlMergeFasttextEmbeddingv3.bin\")"
   ],
   "metadata": {
    "collapsed": false
   }
  },
  {
   "cell_type": "code",
   "execution_count": 4,
   "outputs": [
    {
     "data": {
      "text/plain": "                                            Question           Intent\n0  ខ្ញុំ ចង់ ដឹង ថា សាលា ស៊ីអេឌីធី សិស្ស ដែល ទើប ...  ScholarshipInfo\n1  ខ្ញុំ ចង់ ដឹង ថា សាលា ស៊ីអេឌីធី សិស្ស ដែល ទើប ...  ScholarshipInfo\n2  ខ្ញុំ ចង់ ដឹង ថា សាលា ស៊ីអេឌីធី សិស្ស ដែល ទើប ...  ScholarshipInfo\n3  ខ្ញុំ ចង់ ដឹង ថា សាលា ស៊ីអេឌីធី សិស្ស ដែល ទើប ...  ScholarshipInfo\n4  ខ្ញុំ ចង់ ដឹង ថា សាលា ស៊ីអេឌីធី សិស្ស ដែល ទើប ...  ScholarshipInfo",
      "text/html": "<div>\n<style scoped>\n    .dataframe tbody tr th:only-of-type {\n        vertical-align: middle;\n    }\n\n    .dataframe tbody tr th {\n        vertical-align: top;\n    }\n\n    .dataframe thead th {\n        text-align: right;\n    }\n</style>\n<table border=\"1\" class=\"dataframe\">\n  <thead>\n    <tr style=\"text-align: right;\">\n      <th></th>\n      <th>Question</th>\n      <th>Intent</th>\n    </tr>\n  </thead>\n  <tbody>\n    <tr>\n      <th>0</th>\n      <td>ខ្ញុំ ចង់ ដឹង ថា សាលា ស៊ីអេឌីធី សិស្ស ដែល ទើប ...</td>\n      <td>ScholarshipInfo</td>\n    </tr>\n    <tr>\n      <th>1</th>\n      <td>ខ្ញុំ ចង់ ដឹង ថា សាលា ស៊ីអេឌីធី សិស្ស ដែល ទើប ...</td>\n      <td>ScholarshipInfo</td>\n    </tr>\n    <tr>\n      <th>2</th>\n      <td>ខ្ញុំ ចង់ ដឹង ថា សាលា ស៊ីអេឌីធី សិស្ស ដែល ទើប ...</td>\n      <td>ScholarshipInfo</td>\n    </tr>\n    <tr>\n      <th>3</th>\n      <td>ខ្ញុំ ចង់ ដឹង ថា សាលា ស៊ីអេឌីធី សិស្ស ដែល ទើប ...</td>\n      <td>ScholarshipInfo</td>\n    </tr>\n    <tr>\n      <th>4</th>\n      <td>ខ្ញុំ ចង់ ដឹង ថា សាលា ស៊ីអេឌីធី សិស្ស ដែល ទើប ...</td>\n      <td>ScholarshipInfo</td>\n    </tr>\n  </tbody>\n</table>\n</div>"
     },
     "execution_count": 4,
     "metadata": {},
     "output_type": "execute_result"
    }
   ],
   "source": [
    "df = pd.read_csv(\"all_segment_dataset.csv\")\n",
    "df.head()"
   ],
   "metadata": {
    "collapsed": false
   }
  },
  {
   "cell_type": "code",
   "execution_count": 9,
   "outputs": [],
   "source": [
    "model.get_sentence_vector(\"តើ អ្នក កំពុង ធ្វើ អ្វី ?\")\n",
    "convertedValues = [model.get_sentence_vector(x) for x in df[\"Question\"].tolist()]"
   ],
   "metadata": {
    "collapsed": false
   }
  },
  {
   "cell_type": "code",
   "execution_count": 34,
   "outputs": [
    {
     "name": "stdout",
     "output_type": "stream",
     "text": [
      "[50 50 50 ... 53 53 53]\n"
     ]
    }
   ],
   "source": [
    "from sklearn.linear_model import LogisticRegression\n",
    "from sklearn.model_selection import train_test_split\n",
    "from sklearn.preprocessing import LabelEncoder\n",
    "\n",
    "encoder = LabelEncoder()\n",
    "encoder.fit(df[\"Intent\"])\n",
    "dff = encoder.transform(df[\"Intent\"])\n",
    "\n",
    "print(dff)\n",
    "\n",
    "X_train, X_test, Y_train, Y_test = train_test_split(convertedValues, dff, test_size=0.2, random_state=42)"
   ],
   "metadata": {
    "collapsed": false
   }
  },
  {
   "cell_type": "markdown",
   "source": [
    "## Logistic Regression with Newton-CG solver"
   ],
   "metadata": {
    "collapsed": false
   }
  },
  {
   "cell_type": "code",
   "execution_count": 16,
   "outputs": [
    {
     "data": {
      "text/plain": "LogisticRegression(max_iter=200, multi_class='multinomial', solver='newton-cg',\n                   warm_start=True)"
     },
     "execution_count": 16,
     "metadata": {},
     "output_type": "execute_result"
    }
   ],
   "source": [
    "newtonRegg = LogisticRegression(multi_class=\"multinomial\", solver=\"newton-cg\", max_iter=200, warm_start=True, penalty=\"l2\")\n",
    "newtonRegg.fit(X_train, Y_train)"
   ],
   "metadata": {
    "collapsed": false
   }
  },
  {
   "cell_type": "code",
   "execution_count": 17,
   "outputs": [
    {
     "name": "stdout",
     "output_type": "stream",
     "text": [
      "0.9510597966569017\n",
      "['AskAboutLocation']\n"
     ]
    }
   ],
   "source": [
    "score = newtonRegg.score(X_test, Y_test)\n",
    "print(score)\n",
    "rise = model.get_sentence_vector(\"តើ សាលា នៅ ណា ?\")\n",
    "ree = newtonRegg.predict([rise])\n",
    "print(encoder.inverse_transform(ree))"
   ],
   "metadata": {
    "collapsed": false
   }
  },
  {
   "cell_type": "code",
   "execution_count": 25,
   "outputs": [
    {
     "ename": "NameError",
     "evalue": "name 'newtonRegg' is not defined",
     "output_type": "error",
     "traceback": [
      "\u001B[0;31m---------------------------------------------------------------------------\u001B[0m",
      "\u001B[0;31mNameError\u001B[0m                                 Traceback (most recent call last)",
      "\u001B[0;32m/tmp/ipykernel_13972/3442609005.py\u001B[0m in \u001B[0;36m<module>\u001B[0;34m\u001B[0m\n\u001B[0;32m----> 1\u001B[0;31m \u001B[0mnewtonRegg\u001B[0m\u001B[0;34m.\u001B[0m\u001B[0msummary\u001B[0m\u001B[0;34m(\u001B[0m\u001B[0;34m)\u001B[0m\u001B[0;34m\u001B[0m\u001B[0;34m\u001B[0m\u001B[0m\n\u001B[0m",
      "\u001B[0;31mNameError\u001B[0m: name 'newtonRegg' is not defined"
     ]
    }
   ],
   "source": [
    "newtonRegg.summary()"
   ],
   "metadata": {
    "collapsed": false
   }
  },
  {
   "cell_type": "code",
   "execution_count": 135,
   "outputs": [
    {
     "data": {
      "text/plain": "array(['AskHowToComplain'], dtype=object)"
     },
     "execution_count": 135,
     "metadata": {},
     "output_type": "execute_result"
    }
   ],
   "source": [
    "rise = model.get_sentence_vector(\"តើ អាគារ Innovation Center នៅ ណា ?\")\n",
    "ree = newtonRegg.predict([rise])\n",
    "encoder.inverse_transform(ree)"
   ],
   "metadata": {
    "collapsed": false
   }
  },
  {
   "cell_type": "code",
   "execution_count": 19,
   "outputs": [
    {
     "name": "stdout",
     "output_type": "stream",
     "text": [
      "0.9510597966569017\n",
      "['AskAboutLocation']\n"
     ]
    }
   ],
   "source": [
    "newtonRegg = LogisticRegression(multi_class=\"multinomial\", solver=\"newton-cg\", max_iter=200, penalty=\"l2\")\n",
    "newtonRegg.fit(X_train, Y_train)\n",
    "\n",
    "score = newtonRegg.score(X_test, Y_test)\n",
    "print(score)\n",
    "rise = model.get_sentence_vector(\"តើ សាលា នៅ ណា ?\")\n",
    "ree = newtonRegg.predict([rise])\n",
    "print(encoder.inverse_transform(ree))"
   ],
   "metadata": {
    "collapsed": false
   }
  },
  {
   "cell_type": "code",
   "execution_count": 20,
   "outputs": [
    {
     "name": "stdout",
     "output_type": "stream",
     "text": [
      "1.0\n",
      "['AskAboutLocation']\n"
     ]
    }
   ],
   "source": [
    "newtonRegg = LogisticRegression(multi_class=\"multinomial\", solver=\"newton-cg\", max_iter=200, warm_start=True,\n",
    "                                penalty=\"none\")\n",
    "newtonRegg.fit(X_train, Y_train)\n",
    "\n",
    "score = newtonRegg.score(X_test, Y_test)\n",
    "print(score)\n",
    "rise = model.get_sentence_vector(\"តើ សាលា នៅ ណា ?\")\n",
    "ree = newtonRegg.predict([rise])\n",
    "print(encoder.inverse_transform(ree))"
   ],
   "metadata": {
    "collapsed": false
   }
  },
  {
   "cell_type": "code",
   "execution_count": 21,
   "outputs": [
    {
     "name": "stdout",
     "output_type": "stream",
     "text": [
      "1.0\n",
      "['AskAboutLocation']\n"
     ]
    }
   ],
   "source": [
    "newtonRegg = LogisticRegression(multi_class=\"multinomial\", solver=\"newton-cg\", max_iter=200, penalty=\"none\")\n",
    "newtonRegg.fit(X_train, Y_train)\n",
    "\n",
    "score = newtonRegg.score(X_test, Y_test)\n",
    "print(score)\n",
    "rise = model.get_sentence_vector(\"តើ សាលា នៅ ណា ?\")\n",
    "ree = newtonRegg.predict([rise])\n",
    "print(encoder.inverse_transform(ree))"
   ],
   "metadata": {
    "collapsed": false
   }
  },
  {
   "cell_type": "markdown",
   "source": [
    "## Logistic Regression with LBFGS solver"
   ],
   "metadata": {
    "collapsed": false
   }
  },
  {
   "cell_type": "code",
   "execution_count": 21,
   "outputs": [
    {
     "data": {
      "text/plain": "LogisticRegression(max_iter=500, multi_class='multinomial')"
     },
     "execution_count": 21,
     "metadata": {},
     "output_type": "execute_result"
    }
   ],
   "source": [
    "regg = LogisticRegression(multi_class=\"multinomial\", solver=\"lbfgs\", max_iter=500, )\n",
    "regg.fit(X_train, Y_train)"
   ],
   "metadata": {
    "collapsed": false
   }
  },
  {
   "cell_type": "code",
   "execution_count": 22,
   "outputs": [
    {
     "name": "stdout",
     "output_type": "stream",
     "text": [
      "0.9510597966569017\n"
     ]
    }
   ],
   "source": [
    "score = regg.score(X_test, Y_test)\n",
    "print(score)"
   ],
   "metadata": {
    "collapsed": false
   }
  },
  {
   "cell_type": "code",
   "execution_count": 56,
   "outputs": [
    {
     "name": "stdout",
     "output_type": "stream",
     "text": [
      "['AskAboutAcademicFee', 'AskAboutAccountantRoom', 'AskAboutAccountantRoom ', 'AskAboutAge', 'AskAboutCS_CourseInEachGen', 'AskAboutCarParkingFee', 'AskAboutClubInfo', 'AskAboutCompetition', 'AskAboutDormInfo', 'AskAboutEC_CourseInEachGen', 'AskAboutEnrollmentRequirement', 'AskAboutInterest', 'AskAboutLocation', 'AskAboutMinistry', 'AskAboutMotocycleParkingFee', 'AskAboutParkingPrice', 'AskAboutProvince', 'AskAboutRegisterDate', 'AskAboutSchoolMajors', 'AskAboutStudyHour', 'AskAboutTN_CourseInEachGen', 'AskHowToComplain', 'AskWhereHRRoomIs', 'AskWhetherJobAnnoucementExist', 'AskWhetherPoepleWorkonExactDate', 'AskWorkingDate', 'AskaboutFemaleDressCode', 'AskaboutMaleDressCode', 'FindAnnouncementInfo', 'FindCSInfo', 'FindClub', 'FindClubRoom', 'FindCurrentTime', 'FindECInfo', 'FindEnrollmentLocation', 'FindResearcherRoom', 'FindTNInfo', 'FindTSC', 'FindTotalStudents', 'FindbusStationNearCADT', 'IsCanteenExist', 'IsExistDoorExit', 'IsFootballFieldExist', 'IsLibraryExist', 'IsMinistryExist', 'IsProvinceExist', 'ListClub', 'ListEvent', 'ListInstitutionRule', 'ListParkingSpace', 'ScholarshipInfo', 'SchoolMission', 'SchoolbusInfo', 'WhyShouldChooseCADT']\n"
     ]
    }
   ],
   "source": [
    "rise = model.get_sentence_vector(\"តើ សាលា នៅ ណា ?\")\n",
    "ree = regg.predict([rise])\n",
    "encoder.inverse_transform(ree)\n",
    "newList = np.unique(dff)\n",
    "riseList = encoder.inverse_transform(newList)\n",
    "riseList = [str(x) for x in riseList]\n",
    "print(riseList)"
   ],
   "metadata": {
    "collapsed": false
   }
  },
  {
   "cell_type": "code",
   "execution_count": 58,
   "outputs": [
    {
     "name": "stdout",
     "output_type": "stream",
     "text": [
      "                                 precision    recall  f1-score   support\n",
      "\n",
      "            AskAboutAcademicFee       1.00      0.26      0.42        19\n",
      "         AskAboutAccountantRoom       0.55      0.86      0.67        14\n",
      "        AskAboutAccountantRoom        0.00      0.00      0.00        16\n",
      "                    AskAboutAge       1.00      1.00      1.00        27\n",
      "     AskAboutCS_CourseInEachGen       1.00      1.00      1.00        27\n",
      "          AskAboutCarParkingFee       0.97      1.00      0.98       562\n",
      "               AskAboutClubInfo       0.00      0.00      0.00        16\n",
      "            AskAboutCompetition       1.00      0.10      0.18        31\n",
      "               AskAboutDormInfo       1.00      1.00      1.00       325\n",
      "     AskAboutEC_CourseInEachGen       0.00      0.00      0.00        14\n",
      "  AskAboutEnrollmentRequirement       0.85      1.00      0.92       299\n",
      "               AskAboutInterest       1.00      0.76      0.86        29\n",
      "               AskAboutLocation       0.97      0.97      0.97        38\n",
      "               AskAboutMinistry       1.00      0.67      0.80        21\n",
      "    AskAboutMotocycleParkingFee       0.97      1.00      0.99       334\n",
      "           AskAboutParkingPrice       0.00      0.00      0.00        18\n",
      "               AskAboutProvince       1.00      0.81      0.90        27\n",
      "           AskAboutRegisterDate       0.00      0.00      0.00        12\n",
      "           AskAboutSchoolMajors       0.80      1.00      0.89       164\n",
      "              AskAboutStudyHour       0.98      1.00      0.99       141\n",
      "     AskAboutTN_CourseInEachGen       0.63      1.00      0.77        24\n",
      "               AskHowToComplain       0.98      1.00      0.99       633\n",
      "               AskWhereHRRoomIs       0.96      1.00      0.98       309\n",
      "  AskWhetherJobAnnoucementExist       0.99      1.00      0.99        93\n",
      "AskWhetherPoepleWorkonExactDate       1.00      1.00      1.00        22\n",
      "                 AskWorkingDate       0.00      0.00      0.00         7\n",
      "        AskaboutFemaleDressCode       0.98      1.00      0.99        54\n",
      "          AskaboutMaleDressCode       1.00      0.99      0.99        72\n",
      "           FindAnnouncementInfo       0.00      0.00      0.00         8\n",
      "                     FindCSInfo       0.96      0.86      0.90       111\n",
      "                       FindClub       1.00      0.12      0.21        17\n",
      "                   FindClubRoom       1.00      0.67      0.80        24\n",
      "                FindCurrentTime       0.95      1.00      0.98       342\n",
      "                     FindECInfo       0.92      0.96      0.94       102\n",
      "         FindEnrollmentLocation       1.00      0.10      0.19        29\n",
      "             FindResearcherRoom       0.00      0.00      0.00        10\n",
      "                     FindTNInfo       0.91      0.98      0.94       101\n",
      "                        FindTSC       1.00      1.00      1.00        90\n",
      "              FindTotalStudents       0.99      1.00      1.00       106\n",
      "         FindbusStationNearCADT       0.99      1.00      0.99        93\n",
      "                 IsCanteenExist       1.00      0.93      0.97        61\n",
      "                IsExistDoorExit       0.99      1.00      0.99       297\n",
      "           IsFootballFieldExist       0.94      1.00      0.97       196\n",
      "                 IsLibraryExist       1.00      0.96      0.98        24\n",
      "                IsMinistryExist       0.91      1.00      0.96        64\n",
      "                IsProvinceExist       1.00      1.00      1.00        32\n",
      "                       ListClub       0.00      0.00      0.00         6\n",
      "                      ListEvent       0.93      1.00      0.96       299\n",
      "            ListInstitutionRule       1.00      0.92      0.96        26\n",
      "               ListParkingSpace       1.00      0.52      0.69        21\n",
      "                ScholarshipInfo       1.00      1.00      1.00       150\n",
      "                  SchoolMission       0.00      0.00      0.00        15\n",
      "                  SchoolbusInfo       0.91      1.00      0.95       223\n",
      "            WhyShouldChooseCADT       0.00      0.00      0.00         8\n",
      "\n",
      "                       accuracy                           0.95      5803\n",
      "                      macro avg       0.76      0.69      0.70      5803\n",
      "                   weighted avg       0.93      0.95      0.94      5803\n",
      "\n"
     ]
    },
    {
     "name": "stderr",
     "output_type": "stream",
     "text": [
      "/home/icyfrost/anaconda3/envs/group2/lib/python3.7/site-packages/sklearn/metrics/_classification.py:1318: UndefinedMetricWarning: Precision and F-score are ill-defined and being set to 0.0 in labels with no predicted samples. Use `zero_division` parameter to control this behavior.\n",
      "  _warn_prf(average, modifier, msg_start, len(result))\n",
      "/home/icyfrost/anaconda3/envs/group2/lib/python3.7/site-packages/sklearn/metrics/_classification.py:1318: UndefinedMetricWarning: Precision and F-score are ill-defined and being set to 0.0 in labels with no predicted samples. Use `zero_division` parameter to control this behavior.\n",
      "  _warn_prf(average, modifier, msg_start, len(result))\n",
      "/home/icyfrost/anaconda3/envs/group2/lib/python3.7/site-packages/sklearn/metrics/_classification.py:1318: UndefinedMetricWarning: Precision and F-score are ill-defined and being set to 0.0 in labels with no predicted samples. Use `zero_division` parameter to control this behavior.\n",
      "  _warn_prf(average, modifier, msg_start, len(result))\n"
     ]
    }
   ],
   "source": [
    "y_pred = regg.predict(X_test)\n",
    "print(metrics.classification_report(Y_test, y_pred,target_names=riseList))"
   ],
   "metadata": {
    "collapsed": false
   }
  },
  {
   "cell_type": "code",
   "execution_count": 83,
   "outputs": [
    {
     "data": {
      "text/plain": "array(['ScholarshipInfo'], dtype=object)"
     },
     "execution_count": 83,
     "metadata": {},
     "output_type": "execute_result"
    }
   ],
   "source": [
    "rise = model.get_sentence_vector(\"សាលា មាន អាហារូបករណ៍ ទេ\")\n",
    "ree = regg.predict([rise])\n",
    "encoder.inverse_transform(ree)"
   ],
   "metadata": {
    "collapsed": false
   }
  },
  {
   "cell_type": "code",
   "execution_count": 23,
   "outputs": [
    {
     "data": {
      "text/plain": "array(['FindTSC'], dtype=object)"
     },
     "execution_count": 23,
     "metadata": {},
     "output_type": "execute_result"
    }
   ],
   "source": [
    "rise = model.get_sentence_vector(\"នៅ ទី ណា បន្ទប់ TSC\")\n",
    "\n",
    "ree = regg.predict([rise])\n",
    "encoder.inverse_transform(ree)"
   ],
   "metadata": {
    "collapsed": false
   }
  },
  {
   "cell_type": "code",
   "execution_count": 124,
   "outputs": [
    {
     "data": {
      "text/plain": "array(['AskAboutLocation'], dtype=object)"
     },
     "execution_count": 124,
     "metadata": {},
     "output_type": "execute_result"
    }
   ],
   "source": [
    "rise = model.get_sentence_vector(\"តើ បន្ទប់ទឹក នៅ ឯណា ?\")\n",
    "ree = regg.predict([rise])\n",
    "encoder.inverse_transform(ree)"
   ],
   "metadata": {
    "collapsed": false
   }
  },
  {
   "cell_type": "code",
   "execution_count": 130,
   "outputs": [
    {
     "data": {
      "text/plain": "array(['FindCSInfo'], dtype=object)"
     },
     "execution_count": 130,
     "metadata": {},
     "output_type": "execute_result"
    }
   ],
   "source": [
    "rise = model.get_sentence_vector(\"តើ ខ្ញំុ ត្រូវ បង់ ប្រាក់ នៅ ឯ ណា?\")\n",
    "ree = regg.predict([rise])\n",
    "encoder.inverse_transform(ree)"
   ],
   "metadata": {
    "collapsed": false
   }
  },
  {
   "cell_type": "code",
   "execution_count": 133,
   "outputs": [
    {
     "data": {
      "text/plain": "array(['AskHowToComplain'], dtype=object)"
     },
     "execution_count": 133,
     "metadata": {},
     "output_type": "execute_result"
    }
   ],
   "source": [
    "rise = model.get_sentence_vector(\"តើ អាគារ Innovation Center នៅ ណា ?\")\n",
    "ree = regg.predict([rise])\n",
    "encoder.inverse_transform(ree)"
   ],
   "metadata": {
    "collapsed": false
   }
  },
  {
   "cell_type": "markdown",
   "source": [
    "## SVC Model"
   ],
   "metadata": {
    "collapsed": false
   }
  },
  {
   "cell_type": "code",
   "execution_count": 139,
   "outputs": [
    {
     "name": "stdout",
     "output_type": "stream",
     "text": [
      "[[0 0 0 ... 0 0 0]\n",
      " [0 0 0 ... 0 0 0]\n",
      " [0 0 0 ... 0 0 0]\n",
      " ...\n",
      " [0 0 0 ... 0 0 1]\n",
      " [0 0 0 ... 0 0 1]\n",
      " [0 0 0 ... 0 0 1]]\n"
     ]
    }
   ],
   "source": [
    "from sklearn.linear_model import LogisticRegression\n",
    "from sklearn.model_selection import train_test_split\n",
    "from sklearn.preprocessing import LabelBinarizer\n",
    "\n",
    "labelCoder = LabelBinarizer()\n",
    "dffff = labelCoder.fit_transform(df[\"Intent\"])\n",
    "print(dffff)\n",
    "X_train, X_test, Y_train, Y_test = train_test_split(convertedValues, dffff, test_size=0.2, random_state=42)"
   ],
   "metadata": {
    "collapsed": false
   }
  },
  {
   "cell_type": "code",
   "execution_count": 140,
   "outputs": [
    {
     "ename": "ValueError",
     "evalue": "y should be a 1d array, got an array of shape (23211, 54) instead.",
     "output_type": "error",
     "traceback": [
      "\u001B[0;31m---------------------------------------------------------------------------\u001B[0m",
      "\u001B[0;31mValueError\u001B[0m                                Traceback (most recent call last)",
      "\u001B[0;32m/tmp/ipykernel_6937/823988920.py\u001B[0m in \u001B[0;36m<module>\u001B[0;34m\u001B[0m\n\u001B[1;32m      4\u001B[0m \u001B[0;34m\u001B[0m\u001B[0m\n\u001B[1;32m      5\u001B[0m \u001B[0mclf\u001B[0m \u001B[0;34m=\u001B[0m \u001B[0mmake_pipeline\u001B[0m\u001B[0;34m(\u001B[0m\u001B[0mStandardScaler\u001B[0m\u001B[0;34m(\u001B[0m\u001B[0;34m)\u001B[0m\u001B[0;34m,\u001B[0m \u001B[0mSVC\u001B[0m\u001B[0;34m(\u001B[0m\u001B[0mgamma\u001B[0m\u001B[0;34m=\u001B[0m\u001B[0;34m\"auto\"\u001B[0m\u001B[0;34m)\u001B[0m\u001B[0;34m)\u001B[0m\u001B[0;34m\u001B[0m\u001B[0;34m\u001B[0m\u001B[0m\n\u001B[0;32m----> 6\u001B[0;31m \u001B[0mclf\u001B[0m\u001B[0;34m.\u001B[0m\u001B[0mfit\u001B[0m\u001B[0;34m(\u001B[0m\u001B[0mX_train\u001B[0m\u001B[0;34m,\u001B[0m\u001B[0mY_train\u001B[0m\u001B[0;34m)\u001B[0m\u001B[0;34m\u001B[0m\u001B[0;34m\u001B[0m\u001B[0m\n\u001B[0m",
      "\u001B[0;32m~/anaconda3/envs/group2/lib/python3.7/site-packages/sklearn/pipeline.py\u001B[0m in \u001B[0;36mfit\u001B[0;34m(self, X, y, **fit_params)\u001B[0m\n\u001B[1;32m    392\u001B[0m             \u001B[0;32mif\u001B[0m \u001B[0mself\u001B[0m\u001B[0;34m.\u001B[0m\u001B[0m_final_estimator\u001B[0m \u001B[0;34m!=\u001B[0m \u001B[0;34m\"passthrough\"\u001B[0m\u001B[0;34m:\u001B[0m\u001B[0;34m\u001B[0m\u001B[0;34m\u001B[0m\u001B[0m\n\u001B[1;32m    393\u001B[0m                 \u001B[0mfit_params_last_step\u001B[0m \u001B[0;34m=\u001B[0m \u001B[0mfit_params_steps\u001B[0m\u001B[0;34m[\u001B[0m\u001B[0mself\u001B[0m\u001B[0;34m.\u001B[0m\u001B[0msteps\u001B[0m\u001B[0;34m[\u001B[0m\u001B[0;34m-\u001B[0m\u001B[0;36m1\u001B[0m\u001B[0;34m]\u001B[0m\u001B[0;34m[\u001B[0m\u001B[0;36m0\u001B[0m\u001B[0;34m]\u001B[0m\u001B[0;34m]\u001B[0m\u001B[0;34m\u001B[0m\u001B[0;34m\u001B[0m\u001B[0m\n\u001B[0;32m--> 394\u001B[0;31m                 \u001B[0mself\u001B[0m\u001B[0;34m.\u001B[0m\u001B[0m_final_estimator\u001B[0m\u001B[0;34m.\u001B[0m\u001B[0mfit\u001B[0m\u001B[0;34m(\u001B[0m\u001B[0mXt\u001B[0m\u001B[0;34m,\u001B[0m \u001B[0my\u001B[0m\u001B[0;34m,\u001B[0m \u001B[0;34m**\u001B[0m\u001B[0mfit_params_last_step\u001B[0m\u001B[0;34m)\u001B[0m\u001B[0;34m\u001B[0m\u001B[0;34m\u001B[0m\u001B[0m\n\u001B[0m\u001B[1;32m    395\u001B[0m \u001B[0;34m\u001B[0m\u001B[0m\n\u001B[1;32m    396\u001B[0m         \u001B[0;32mreturn\u001B[0m \u001B[0mself\u001B[0m\u001B[0;34m\u001B[0m\u001B[0;34m\u001B[0m\u001B[0m\n",
      "\u001B[0;32m~/anaconda3/envs/group2/lib/python3.7/site-packages/sklearn/svm/_base.py\u001B[0m in \u001B[0;36mfit\u001B[0;34m(self, X, y, sample_weight)\u001B[0m\n\u001B[1;32m    194\u001B[0m                 \u001B[0morder\u001B[0m\u001B[0;34m=\u001B[0m\u001B[0;34m\"C\"\u001B[0m\u001B[0;34m,\u001B[0m\u001B[0;34m\u001B[0m\u001B[0;34m\u001B[0m\u001B[0m\n\u001B[1;32m    195\u001B[0m                 \u001B[0maccept_sparse\u001B[0m\u001B[0;34m=\u001B[0m\u001B[0;34m\"csr\"\u001B[0m\u001B[0;34m,\u001B[0m\u001B[0;34m\u001B[0m\u001B[0;34m\u001B[0m\u001B[0m\n\u001B[0;32m--> 196\u001B[0;31m                 \u001B[0maccept_large_sparse\u001B[0m\u001B[0;34m=\u001B[0m\u001B[0;32mFalse\u001B[0m\u001B[0;34m,\u001B[0m\u001B[0;34m\u001B[0m\u001B[0;34m\u001B[0m\u001B[0m\n\u001B[0m\u001B[1;32m    197\u001B[0m             )\n\u001B[1;32m    198\u001B[0m \u001B[0;34m\u001B[0m\u001B[0m\n",
      "\u001B[0;32m~/anaconda3/envs/group2/lib/python3.7/site-packages/sklearn/base.py\u001B[0m in \u001B[0;36m_validate_data\u001B[0;34m(self, X, y, reset, validate_separately, **check_params)\u001B[0m\n\u001B[1;32m    579\u001B[0m                 \u001B[0my\u001B[0m \u001B[0;34m=\u001B[0m \u001B[0mcheck_array\u001B[0m\u001B[0;34m(\u001B[0m\u001B[0my\u001B[0m\u001B[0;34m,\u001B[0m \u001B[0;34m**\u001B[0m\u001B[0mcheck_y_params\u001B[0m\u001B[0;34m)\u001B[0m\u001B[0;34m\u001B[0m\u001B[0;34m\u001B[0m\u001B[0m\n\u001B[1;32m    580\u001B[0m             \u001B[0;32melse\u001B[0m\u001B[0;34m:\u001B[0m\u001B[0;34m\u001B[0m\u001B[0;34m\u001B[0m\u001B[0m\n\u001B[0;32m--> 581\u001B[0;31m                 \u001B[0mX\u001B[0m\u001B[0;34m,\u001B[0m \u001B[0my\u001B[0m \u001B[0;34m=\u001B[0m \u001B[0mcheck_X_y\u001B[0m\u001B[0;34m(\u001B[0m\u001B[0mX\u001B[0m\u001B[0;34m,\u001B[0m \u001B[0my\u001B[0m\u001B[0;34m,\u001B[0m \u001B[0;34m**\u001B[0m\u001B[0mcheck_params\u001B[0m\u001B[0;34m)\u001B[0m\u001B[0;34m\u001B[0m\u001B[0;34m\u001B[0m\u001B[0m\n\u001B[0m\u001B[1;32m    582\u001B[0m             \u001B[0mout\u001B[0m \u001B[0;34m=\u001B[0m \u001B[0mX\u001B[0m\u001B[0;34m,\u001B[0m \u001B[0my\u001B[0m\u001B[0;34m\u001B[0m\u001B[0;34m\u001B[0m\u001B[0m\n\u001B[1;32m    583\u001B[0m \u001B[0;34m\u001B[0m\u001B[0m\n",
      "\u001B[0;32m~/anaconda3/envs/group2/lib/python3.7/site-packages/sklearn/utils/validation.py\u001B[0m in \u001B[0;36mcheck_X_y\u001B[0;34m(X, y, accept_sparse, accept_large_sparse, dtype, order, copy, force_all_finite, ensure_2d, allow_nd, multi_output, ensure_min_samples, ensure_min_features, y_numeric, estimator)\u001B[0m\n\u001B[1;32m    977\u001B[0m     )\n\u001B[1;32m    978\u001B[0m \u001B[0;34m\u001B[0m\u001B[0m\n\u001B[0;32m--> 979\u001B[0;31m     \u001B[0my\u001B[0m \u001B[0;34m=\u001B[0m \u001B[0m_check_y\u001B[0m\u001B[0;34m(\u001B[0m\u001B[0my\u001B[0m\u001B[0;34m,\u001B[0m \u001B[0mmulti_output\u001B[0m\u001B[0;34m=\u001B[0m\u001B[0mmulti_output\u001B[0m\u001B[0;34m,\u001B[0m \u001B[0my_numeric\u001B[0m\u001B[0;34m=\u001B[0m\u001B[0my_numeric\u001B[0m\u001B[0;34m)\u001B[0m\u001B[0;34m\u001B[0m\u001B[0;34m\u001B[0m\u001B[0m\n\u001B[0m\u001B[1;32m    980\u001B[0m \u001B[0;34m\u001B[0m\u001B[0m\n\u001B[1;32m    981\u001B[0m     \u001B[0mcheck_consistent_length\u001B[0m\u001B[0;34m(\u001B[0m\u001B[0mX\u001B[0m\u001B[0;34m,\u001B[0m \u001B[0my\u001B[0m\u001B[0;34m)\u001B[0m\u001B[0;34m\u001B[0m\u001B[0;34m\u001B[0m\u001B[0m\n",
      "\u001B[0;32m~/anaconda3/envs/group2/lib/python3.7/site-packages/sklearn/utils/validation.py\u001B[0m in \u001B[0;36m_check_y\u001B[0;34m(y, multi_output, y_numeric)\u001B[0m\n\u001B[1;32m    991\u001B[0m         )\n\u001B[1;32m    992\u001B[0m     \u001B[0;32melse\u001B[0m\u001B[0;34m:\u001B[0m\u001B[0;34m\u001B[0m\u001B[0;34m\u001B[0m\u001B[0m\n\u001B[0;32m--> 993\u001B[0;31m         \u001B[0my\u001B[0m \u001B[0;34m=\u001B[0m \u001B[0mcolumn_or_1d\u001B[0m\u001B[0;34m(\u001B[0m\u001B[0my\u001B[0m\u001B[0;34m,\u001B[0m \u001B[0mwarn\u001B[0m\u001B[0;34m=\u001B[0m\u001B[0;32mTrue\u001B[0m\u001B[0;34m)\u001B[0m\u001B[0;34m\u001B[0m\u001B[0;34m\u001B[0m\u001B[0m\n\u001B[0m\u001B[1;32m    994\u001B[0m         \u001B[0m_assert_all_finite\u001B[0m\u001B[0;34m(\u001B[0m\u001B[0my\u001B[0m\u001B[0;34m)\u001B[0m\u001B[0;34m\u001B[0m\u001B[0;34m\u001B[0m\u001B[0m\n\u001B[1;32m    995\u001B[0m         \u001B[0m_ensure_no_complex_data\u001B[0m\u001B[0;34m(\u001B[0m\u001B[0my\u001B[0m\u001B[0;34m)\u001B[0m\u001B[0;34m\u001B[0m\u001B[0;34m\u001B[0m\u001B[0m\n",
      "\u001B[0;32m~/anaconda3/envs/group2/lib/python3.7/site-packages/sklearn/utils/validation.py\u001B[0m in \u001B[0;36mcolumn_or_1d\u001B[0;34m(y, warn)\u001B[0m\n\u001B[1;32m   1037\u001B[0m \u001B[0;34m\u001B[0m\u001B[0m\n\u001B[1;32m   1038\u001B[0m     raise ValueError(\n\u001B[0;32m-> 1039\u001B[0;31m         \u001B[0;34m\"y should be a 1d array, got an array of shape {} instead.\"\u001B[0m\u001B[0;34m.\u001B[0m\u001B[0mformat\u001B[0m\u001B[0;34m(\u001B[0m\u001B[0mshape\u001B[0m\u001B[0;34m)\u001B[0m\u001B[0;34m\u001B[0m\u001B[0;34m\u001B[0m\u001B[0m\n\u001B[0m\u001B[1;32m   1040\u001B[0m     )\n\u001B[1;32m   1041\u001B[0m \u001B[0;34m\u001B[0m\u001B[0m\n",
      "\u001B[0;31mValueError\u001B[0m: y should be a 1d array, got an array of shape (23211, 54) instead."
     ]
    }
   ],
   "source": [
    "from sklearn.svm import SVC\n",
    "from sklearn.preprocessing import StandardScaler\n",
    "from sklearn.pipeline import make_pipeline\n",
    "\n",
    "clf = make_pipeline(StandardScaler(), SVC(gamma=\"auto\"))\n",
    "clf.fit(X_train, Y_train)"
   ],
   "metadata": {
    "collapsed": false
   }
  },
  {
   "cell_type": "code",
   "execution_count": 89,
   "outputs": [
    {
     "name": "stdout",
     "output_type": "stream",
     "text": [
      "1.0\n"
     ]
    }
   ],
   "source": [
    "print(clf.score(X_test, Y_test))"
   ],
   "metadata": {
    "collapsed": false
   }
  },
  {
   "cell_type": "code",
   "execution_count": 91,
   "outputs": [
    {
     "data": {
      "text/plain": "array(['FindCSInfo'], dtype=object)"
     },
     "execution_count": 91,
     "metadata": {},
     "output_type": "execute_result"
    }
   ],
   "source": [
    "rise = model.get_sentence_vector(\"សាលា មាន អាហារូបករណ៍ ទេ\")\n",
    "ree = clf.predict([rise])\n",
    "encoder.inverse_transform(ree)"
   ],
   "metadata": {
    "collapsed": false
   }
  },
  {
   "cell_type": "markdown",
   "source": [
    "## K-Nearest Neighbor"
   ],
   "metadata": {
    "collapsed": false
   }
  },
  {
   "cell_type": "code",
   "execution_count": 99,
   "outputs": [
    {
     "name": "stdout",
     "output_type": "stream",
     "text": [
      "54\n"
     ]
    },
    {
     "data": {
      "text/plain": "KNeighborsClassifier(n_neighbors=10)"
     },
     "execution_count": 99,
     "metadata": {},
     "output_type": "execute_result"
    }
   ],
   "source": [
    "from sklearn.neighbors import KNeighborsClassifier\n",
    "\n",
    "print(len(df[\"Intent\"].unique()))\n",
    "\n",
    "clf = KNeighborsClassifier(10)\n",
    "clf.fit(X_train, Y_train)\n"
   ],
   "metadata": {
    "collapsed": false
   }
  },
  {
   "cell_type": "code",
   "execution_count": 100,
   "outputs": [
    {
     "data": {
      "text/plain": "0.9843184559710495"
     },
     "execution_count": 100,
     "metadata": {},
     "output_type": "execute_result"
    }
   ],
   "source": [
    "clf.score(X_test, Y_test)"
   ],
   "metadata": {
    "collapsed": false
   }
  },
  {
   "cell_type": "code",
   "execution_count": 108,
   "outputs": [
    {
     "data": {
      "text/plain": "array(['FindResearcherRoom'], dtype=object)"
     },
     "execution_count": 108,
     "metadata": {},
     "output_type": "execute_result"
    }
   ],
   "source": [
    "rise = model.get_sentence_vector(\"នៅ ទី ណា បន្ទប់ TSC\")\n",
    "\n",
    "ree = clf.predict([rise])\n",
    "encoder.inverse_transform(ree)"
   ],
   "metadata": {
    "collapsed": false
   }
  },
  {
   "cell_type": "markdown",
   "source": [
    "## One for all method"
   ],
   "metadata": {
    "collapsed": false
   }
  },
  {
   "cell_type": "code",
   "execution_count": 14,
   "outputs": [],
   "source": [
    "from sklearn.multiclass import OneVsRestClassifier\n",
    "from sklearn.linear_model import LogisticRegression\n",
    "from sklearn.svm import SVC\n",
    "from sklearn.model_selection import train_test_split"
   ],
   "metadata": {
    "collapsed": false
   }
  },
  {
   "cell_type": "code",
   "execution_count": 18,
   "outputs": [],
   "source": [
    "X_train, X_test, Y_train, Y_test = train_test_split(convertedValues, dff, test_size=0.2, random_state=42)\n",
    "\n",
    "clf = OneVsRestClassifier(LogisticRegression(max_iter=300)).fit(X_train, Y_train)"
   ],
   "metadata": {
    "collapsed": false
   }
  },
  {
   "cell_type": "code",
   "execution_count": 59,
   "outputs": [],
   "source": [
    "clf.score(X_test, Y_test)\n",
    "\n",
    "newList = np.unique(dff)\n",
    "\n",
    "riseList = encoder.inverse_transform(newList)\n",
    "riseList = [str(x) for x in riseList]"
   ],
   "metadata": {
    "collapsed": false
   }
  },
  {
   "cell_type": "code",
   "execution_count": 62,
   "outputs": [
    {
     "name": "stdout",
     "output_type": "stream",
     "text": [
      "Accuracy:  0.937101499224539\n",
      "                                 precision    recall  f1-score   support\n",
      "\n",
      "            AskAboutAcademicFee       1.00      0.05      0.10        19\n",
      "         AskAboutAccountantRoom       0.59      0.71      0.65        14\n",
      "        AskAboutAccountantRoom        0.00      0.00      0.00        16\n",
      "                    AskAboutAge       1.00      0.93      0.96        27\n",
      "     AskAboutCS_CourseInEachGen       1.00      1.00      1.00        27\n",
      "          AskAboutCarParkingFee       0.97      1.00      0.98       562\n",
      "               AskAboutClubInfo       0.00      0.00      0.00        16\n",
      "            AskAboutCompetition       1.00      0.10      0.18        31\n",
      "               AskAboutDormInfo       0.99      1.00      1.00       325\n",
      "     AskAboutEC_CourseInEachGen       0.00      0.00      0.00        14\n",
      "  AskAboutEnrollmentRequirement       0.84      1.00      0.91       299\n",
      "               AskAboutInterest       1.00      0.45      0.62        29\n",
      "               AskAboutLocation       0.97      0.97      0.97        38\n",
      "               AskAboutMinistry       1.00      0.67      0.80        21\n",
      "    AskAboutMotocycleParkingFee       0.97      1.00      0.99       334\n",
      "           AskAboutParkingPrice       0.00      0.00      0.00        18\n",
      "               AskAboutProvince       1.00      0.67      0.80        27\n",
      "           AskAboutRegisterDate       0.00      0.00      0.00        12\n",
      "           AskAboutSchoolMajors       0.80      1.00      0.89       164\n",
      "              AskAboutStudyHour       0.99      1.00      0.99       141\n",
      "     AskAboutTN_CourseInEachGen       0.63      1.00      0.77        24\n",
      "               AskHowToComplain       0.96      1.00      0.98       633\n",
      "               AskWhereHRRoomIs       0.94      1.00      0.97       309\n",
      "  AskWhetherJobAnnoucementExist       0.99      1.00      0.99        93\n",
      "AskWhetherPoepleWorkonExactDate       1.00      1.00      1.00        22\n",
      "                 AskWorkingDate       0.00      0.00      0.00         7\n",
      "        AskaboutFemaleDressCode       0.96      1.00      0.98        54\n",
      "          AskaboutMaleDressCode       1.00      0.97      0.99        72\n",
      "           FindAnnouncementInfo       0.00      0.00      0.00         8\n",
      "                     FindCSInfo       0.97      0.80      0.88       111\n",
      "                       FindClub       0.00      0.00      0.00        17\n",
      "                   FindClubRoom       1.00      0.62      0.77        24\n",
      "                FindCurrentTime       0.95      1.00      0.97       342\n",
      "                     FindECInfo       0.90      0.93      0.92       102\n",
      "         FindEnrollmentLocation       1.00      0.03      0.07        29\n",
      "             FindResearcherRoom       0.00      0.00      0.00        10\n",
      "                     FindTNInfo       0.87      0.97      0.92       101\n",
      "                        FindTSC       1.00      1.00      1.00        90\n",
      "              FindTotalStudents       0.98      1.00      0.99       106\n",
      "         FindbusStationNearCADT       0.98      1.00      0.99        93\n",
      "                 IsCanteenExist       1.00      0.54      0.70        61\n",
      "                IsExistDoorExit       0.95      1.00      0.98       297\n",
      "           IsFootballFieldExist       0.84      1.00      0.91       196\n",
      "                 IsLibraryExist       1.00      0.62      0.77        24\n",
      "                IsMinistryExist       0.91      1.00      0.96        64\n",
      "                IsProvinceExist       1.00      0.97      0.98        32\n",
      "                       ListClub       0.00      0.00      0.00         6\n",
      "                      ListEvent       0.93      1.00      0.96       299\n",
      "            ListInstitutionRule       1.00      0.73      0.84        26\n",
      "               ListParkingSpace       1.00      0.29      0.44        21\n",
      "                ScholarshipInfo       1.00      1.00      1.00       150\n",
      "                  SchoolMission       0.00      0.00      0.00        15\n",
      "                  SchoolbusInfo       0.90      0.99      0.94       223\n",
      "            WhyShouldChooseCADT       0.00      0.00      0.00         8\n",
      "\n",
      "                       accuracy                           0.94      5803\n",
      "                      macro avg       0.74      0.65      0.66      5803\n",
      "                   weighted avg       0.92      0.94      0.92      5803\n",
      "\n"
     ]
    },
    {
     "name": "stderr",
     "output_type": "stream",
     "text": [
      "/home/icyfrost/anaconda3/envs/group2/lib/python3.7/site-packages/sklearn/metrics/_classification.py:1318: UndefinedMetricWarning: Precision and F-score are ill-defined and being set to 0.0 in labels with no predicted samples. Use `zero_division` parameter to control this behavior.\n",
      "  _warn_prf(average, modifier, msg_start, len(result))\n",
      "/home/icyfrost/anaconda3/envs/group2/lib/python3.7/site-packages/sklearn/metrics/_classification.py:1318: UndefinedMetricWarning: Precision and F-score are ill-defined and being set to 0.0 in labels with no predicted samples. Use `zero_division` parameter to control this behavior.\n",
      "  _warn_prf(average, modifier, msg_start, len(result))\n",
      "/home/icyfrost/anaconda3/envs/group2/lib/python3.7/site-packages/sklearn/metrics/_classification.py:1318: UndefinedMetricWarning: Precision and F-score are ill-defined and being set to 0.0 in labels with no predicted samples. Use `zero_division` parameter to control this behavior.\n",
      "  _warn_prf(average, modifier, msg_start, len(result))\n"
     ]
    }
   ],
   "source": [
    "y_pred = clf.predict(X_test)\n",
    "print(\"Accuracy: \", metrics.accuracy_score(Y_test,y_pred))\n",
    "\n",
    "print(metrics.classification_report(Y_test,y_pred, target_names=riseList))"
   ],
   "metadata": {
    "collapsed": false
   }
  },
  {
   "cell_type": "code",
   "execution_count": 20,
   "outputs": [
    {
     "data": {
      "text/plain": "array(['FindTSC'], dtype=object)"
     },
     "execution_count": 20,
     "metadata": {},
     "output_type": "execute_result"
    }
   ],
   "source": [
    "rise = model.get_sentence_vector(\"នៅ ទី ណា បន្ទប់ TSC\")\n",
    "\n",
    "ree = clf.predict([rise])\n",
    "encoder.inverse_transform(ree)"
   ],
   "metadata": {
    "collapsed": false
   }
  },
  {
   "cell_type": "markdown",
   "source": [
    "## Perceptron"
   ],
   "metadata": {
    "collapsed": false
   }
  },
  {
   "cell_type": "code",
   "execution_count": 68,
   "outputs": [],
   "source": [
    "from sklearn.linear_model import Perceptron"
   ],
   "metadata": {
    "collapsed": false
   }
  },
  {
   "cell_type": "code",
   "execution_count": 79,
   "outputs": [
    {
     "data": {
      "text/plain": "0.8662760641047734"
     },
     "execution_count": 79,
     "metadata": {},
     "output_type": "execute_result"
    }
   ],
   "source": [
    "perceptron = Perceptron(random_state=42,penalty=\"l1\")\n",
    "perceptron.fit(X_train,Y_train)\n",
    "\n",
    "perceptron.score(X_test,Y_test)"
   ],
   "metadata": {
    "collapsed": false
   }
  },
  {
   "cell_type": "code",
   "execution_count": null,
   "outputs": [],
   "source": [
    "# L1 = 0.8662760641047734\n",
    "# L2 penalty = 0.9410649663966913\n",
    "# elasticnet = 0.9288299155609168"
   ],
   "metadata": {
    "collapsed": false
   }
  },
  {
   "cell_type": "code",
   "execution_count": 77,
   "outputs": [
    {
     "name": "stdout",
     "output_type": "stream",
     "text": [
      "Accuracy:  0.9410649663966913\n",
      "                                 precision    recall  f1-score   support\n",
      "\n",
      "            AskAboutAcademicFee       1.00      0.42      0.59        19\n",
      "         AskAboutAccountantRoom       0.56      0.71      0.63        14\n",
      "        AskAboutAccountantRoom        1.00      0.44      0.61        16\n",
      "                    AskAboutAge       1.00      1.00      1.00        27\n",
      "     AskAboutCS_CourseInEachGen       1.00      1.00      1.00        27\n",
      "          AskAboutCarParkingFee       1.00      0.99      1.00       562\n",
      "               AskAboutClubInfo       1.00      0.62      0.77        16\n",
      "            AskAboutCompetition       0.92      0.77      0.84        31\n",
      "               AskAboutDormInfo       1.00      1.00      1.00       325\n",
      "     AskAboutEC_CourseInEachGen       0.00      0.00      0.00        14\n",
      "  AskAboutEnrollmentRequirement       0.96      0.93      0.94       299\n",
      "               AskAboutInterest       1.00      1.00      1.00        29\n",
      "               AskAboutLocation       0.95      1.00      0.97        38\n",
      "               AskAboutMinistry       1.00      0.29      0.44        21\n",
      "    AskAboutMotocycleParkingFee       1.00      1.00      1.00       334\n",
      "           AskAboutParkingPrice       1.00      0.94      0.97        18\n",
      "               AskAboutProvince       1.00      1.00      1.00        27\n",
      "           AskAboutRegisterDate       1.00      0.58      0.74        12\n",
      "           AskAboutSchoolMajors       0.99      0.98      0.98       164\n",
      "              AskAboutStudyHour       1.00      1.00      1.00       141\n",
      "     AskAboutTN_CourseInEachGen       0.63      1.00      0.77        24\n",
      "               AskHowToComplain       0.72      1.00      0.83       633\n",
      "               AskWhereHRRoomIs       1.00      0.98      0.99       309\n",
      "  AskWhetherJobAnnoucementExist       0.99      1.00      0.99        93\n",
      "AskWhetherPoepleWorkonExactDate       1.00      0.73      0.84        22\n",
      "                 AskWorkingDate       0.00      0.00      0.00         7\n",
      "        AskaboutFemaleDressCode       0.00      0.00      0.00        54\n",
      "          AskaboutMaleDressCode       0.67      0.79      0.73        72\n",
      "           FindAnnouncementInfo       0.00      0.00      0.00         8\n",
      "                     FindCSInfo       1.00      0.73      0.84       111\n",
      "                       FindClub       1.00      0.18      0.30        17\n",
      "                   FindClubRoom       1.00      1.00      1.00        24\n",
      "                FindCurrentTime       1.00      1.00      1.00       342\n",
      "                     FindECInfo       0.93      0.91      0.92       102\n",
      "         FindEnrollmentLocation       1.00      0.59      0.74        29\n",
      "             FindResearcherRoom       1.00      0.80      0.89        10\n",
      "                     FindTNInfo       0.91      0.99      0.95       101\n",
      "                        FindTSC       1.00      1.00      1.00        90\n",
      "              FindTotalStudents       1.00      1.00      1.00       106\n",
      "         FindbusStationNearCADT       1.00      1.00      1.00        93\n",
      "                 IsCanteenExist       1.00      0.97      0.98        61\n",
      "                IsExistDoorExit       1.00      1.00      1.00       297\n",
      "           IsFootballFieldExist       1.00      1.00      1.00       196\n",
      "                 IsLibraryExist       1.00      1.00      1.00        24\n",
      "                IsMinistryExist       1.00      1.00      1.00        64\n",
      "                IsProvinceExist       1.00      1.00      1.00        32\n",
      "                       ListClub       1.00      0.83      0.91         6\n",
      "                      ListEvent       1.00      0.88      0.94       299\n",
      "            ListInstitutionRule       1.00      0.77      0.87        26\n",
      "               ListParkingSpace       1.00      0.67      0.80        21\n",
      "                ScholarshipInfo       1.00      0.95      0.97       150\n",
      "                  SchoolMission       0.92      0.73      0.81        15\n",
      "                  SchoolbusInfo       0.99      0.97      0.98       223\n",
      "            WhyShouldChooseCADT       0.00      0.00      0.00         8\n",
      "\n",
      "                       accuracy                           0.94      5803\n",
      "                      macro avg       0.87      0.78      0.81      5803\n",
      "                   weighted avg       0.94      0.94      0.93      5803\n",
      "\n"
     ]
    },
    {
     "name": "stderr",
     "output_type": "stream",
     "text": [
      "/home/icyfrost/anaconda3/envs/group2/lib/python3.7/site-packages/sklearn/metrics/_classification.py:1318: UndefinedMetricWarning: Precision and F-score are ill-defined and being set to 0.0 in labels with no predicted samples. Use `zero_division` parameter to control this behavior.\n",
      "  _warn_prf(average, modifier, msg_start, len(result))\n",
      "/home/icyfrost/anaconda3/envs/group2/lib/python3.7/site-packages/sklearn/metrics/_classification.py:1318: UndefinedMetricWarning: Precision and F-score are ill-defined and being set to 0.0 in labels with no predicted samples. Use `zero_division` parameter to control this behavior.\n",
      "  _warn_prf(average, modifier, msg_start, len(result))\n",
      "/home/icyfrost/anaconda3/envs/group2/lib/python3.7/site-packages/sklearn/metrics/_classification.py:1318: UndefinedMetricWarning: Precision and F-score are ill-defined and being set to 0.0 in labels with no predicted samples. Use `zero_division` parameter to control this behavior.\n",
      "  _warn_prf(average, modifier, msg_start, len(result))\n"
     ]
    }
   ],
   "source": [
    "y_pred = perceptron.predict(X_test)\n",
    "\n",
    "print(\"Accuracy: \", metrics.accuracy_score(Y_test, y_pred))\n",
    "print(metrics.classification_report(Y_test,y_pred,target_names=riseList))"
   ],
   "metadata": {
    "collapsed": false
   }
  },
  {
   "cell_type": "markdown",
   "source": [
    "## One for One method on Logistic Regression"
   ],
   "metadata": {
    "collapsed": false
   }
  },
  {
   "cell_type": "code",
   "execution_count": 63,
   "outputs": [],
   "source": [
    "from sklearn.multiclass import OneVsOneClassifier"
   ],
   "metadata": {
    "collapsed": false
   }
  },
  {
   "cell_type": "code",
   "execution_count": 64,
   "outputs": [
    {
     "data": {
      "text/plain": "0.9057384111666379"
     },
     "execution_count": 64,
     "metadata": {},
     "output_type": "execute_result"
    }
   ],
   "source": [
    "oneForOne = OneVsOneClassifier(LogisticRegression(max_iter=300)).fit(X_train,Y_train)\n",
    "\n",
    "oneForOne.score(X_test, Y_test)"
   ],
   "metadata": {
    "collapsed": false
   }
  },
  {
   "cell_type": "code",
   "execution_count": 67,
   "outputs": [
    {
     "name": "stdout",
     "output_type": "stream",
     "text": [
      "Accuracy:  0.9057384111666379\n",
      "                                 precision    recall  f1-score   support\n",
      "\n",
      "            AskAboutAcademicFee       0.00      0.00      0.00        19\n",
      "         AskAboutAccountantRoom       0.00      0.00      0.00        14\n",
      "        AskAboutAccountantRoom        0.00      0.00      0.00        16\n",
      "                    AskAboutAge       1.00      0.52      0.68        27\n",
      "     AskAboutCS_CourseInEachGen       1.00      0.85      0.92        27\n",
      "          AskAboutCarParkingFee       0.92      1.00      0.96       562\n",
      "               AskAboutClubInfo       0.00      0.00      0.00        16\n",
      "            AskAboutCompetition       0.00      0.00      0.00        31\n",
      "               AskAboutDormInfo       0.87      1.00      0.93       325\n",
      "     AskAboutEC_CourseInEachGen       0.00      0.00      0.00        14\n",
      "  AskAboutEnrollmentRequirement       0.74      1.00      0.85       299\n",
      "               AskAboutInterest       0.00      0.00      0.00        29\n",
      "               AskAboutLocation       1.00      0.55      0.71        38\n",
      "               AskAboutMinistry       0.00      0.00      0.00        21\n",
      "    AskAboutMotocycleParkingFee       0.98      1.00      0.99       334\n",
      "           AskAboutParkingPrice       0.00      0.00      0.00        18\n",
      "               AskAboutProvince       1.00      0.37      0.54        27\n",
      "           AskAboutRegisterDate       0.00      0.00      0.00        12\n",
      "           AskAboutSchoolMajors       0.83      1.00      0.91       164\n",
      "              AskAboutStudyHour       0.98      1.00      0.99       141\n",
      "     AskAboutTN_CourseInEachGen       0.85      0.92      0.88        24\n",
      "               AskHowToComplain       0.89      1.00      0.94       633\n",
      "               AskWhereHRRoomIs       0.95      1.00      0.98       309\n",
      "  AskWhetherJobAnnoucementExist       1.00      1.00      1.00        93\n",
      "AskWhetherPoepleWorkonExactDate       1.00      0.23      0.37        22\n",
      "                 AskWorkingDate       0.00      0.00      0.00         7\n",
      "        AskaboutFemaleDressCode       0.98      0.98      0.98        54\n",
      "          AskaboutMaleDressCode       1.00      0.94      0.97        72\n",
      "           FindAnnouncementInfo       0.00      0.00      0.00         8\n",
      "                     FindCSInfo       0.94      0.85      0.89       111\n",
      "                       FindClub       0.00      0.00      0.00        17\n",
      "                   FindClubRoom       0.00      0.00      0.00        24\n",
      "                FindCurrentTime       0.94      1.00      0.97       342\n",
      "                     FindECInfo       0.91      0.90      0.91       102\n",
      "         FindEnrollmentLocation       0.00      0.00      0.00        29\n",
      "             FindResearcherRoom       0.00      0.00      0.00        10\n",
      "                     FindTNInfo       0.89      0.98      0.93       101\n",
      "                        FindTSC       1.00      1.00      1.00        90\n",
      "              FindTotalStudents       1.00      1.00      1.00       106\n",
      "         FindbusStationNearCADT       1.00      1.00      1.00        93\n",
      "                 IsCanteenExist       1.00      0.21      0.35        61\n",
      "                IsExistDoorExit       0.93      1.00      0.96       297\n",
      "           IsFootballFieldExist       0.76      1.00      0.86       196\n",
      "                 IsLibraryExist       1.00      0.29      0.45        24\n",
      "                IsMinistryExist       1.00      0.97      0.98        64\n",
      "                IsProvinceExist       1.00      0.56      0.72        32\n",
      "                       ListClub       0.00      0.00      0.00         6\n",
      "                      ListEvent       0.90      1.00      0.94       299\n",
      "            ListInstitutionRule       1.00      0.04      0.07        26\n",
      "               ListParkingSpace       1.00      0.05      0.09        21\n",
      "                ScholarshipInfo       1.00      1.00      1.00       150\n",
      "                  SchoolMission       0.00      0.00      0.00        15\n",
      "                  SchoolbusInfo       0.85      0.99      0.91       223\n",
      "            WhyShouldChooseCADT       0.00      0.00      0.00         8\n",
      "\n",
      "                       accuracy                           0.91      5803\n",
      "                      macro avg       0.61      0.52      0.53      5803\n",
      "                   weighted avg       0.87      0.91      0.87      5803\n",
      "\n"
     ]
    },
    {
     "name": "stderr",
     "output_type": "stream",
     "text": [
      "/home/icyfrost/anaconda3/envs/group2/lib/python3.7/site-packages/sklearn/metrics/_classification.py:1318: UndefinedMetricWarning: Precision and F-score are ill-defined and being set to 0.0 in labels with no predicted samples. Use `zero_division` parameter to control this behavior.\n",
      "  _warn_prf(average, modifier, msg_start, len(result))\n",
      "/home/icyfrost/anaconda3/envs/group2/lib/python3.7/site-packages/sklearn/metrics/_classification.py:1318: UndefinedMetricWarning: Precision and F-score are ill-defined and being set to 0.0 in labels with no predicted samples. Use `zero_division` parameter to control this behavior.\n",
      "  _warn_prf(average, modifier, msg_start, len(result))\n",
      "/home/icyfrost/anaconda3/envs/group2/lib/python3.7/site-packages/sklearn/metrics/_classification.py:1318: UndefinedMetricWarning: Precision and F-score are ill-defined and being set to 0.0 in labels with no predicted samples. Use `zero_division` parameter to control this behavior.\n",
      "  _warn_prf(average, modifier, msg_start, len(result))\n"
     ]
    }
   ],
   "source": [
    "y_pred = oneForOne.predict(X_test)\n",
    "print(\"Accuracy: \", metrics.accuracy_score(Y_test,y_pred))\n",
    "\n",
    "print(metrics.classification_report(Y_test,y_pred, target_names=riseList))"
   ],
   "metadata": {
    "collapsed": false
   }
  },
  {
   "cell_type": "code",
   "execution_count": null,
   "outputs": [],
   "source": [],
   "metadata": {
    "collapsed": false
   }
  }
 ],
 "metadata": {
  "kernelspec": {
   "display_name": "Python 3",
   "language": "python",
   "name": "python3"
  },
  "language_info": {
   "codemirror_mode": {
    "name": "ipython",
    "version": 2
   },
   "file_extension": ".py",
   "mimetype": "text/x-python",
   "name": "python",
   "nbconvert_exporter": "python",
   "pygments_lexer": "ipython2",
   "version": "2.7.6"
  }
 },
 "nbformat": 4,
 "nbformat_minor": 0
}
